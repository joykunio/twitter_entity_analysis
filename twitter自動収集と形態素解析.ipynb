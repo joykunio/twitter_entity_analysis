{
  "nbformat": 4,
  "nbformat_minor": 0,
  "metadata": {
    "colab": {
      "name": "twitter自動収集と形態素解析.ipynb",
      "provenance": [],
      "collapsed_sections": [],
      "include_colab_link": true
    },
    "kernelspec": {
      "name": "python3",
      "display_name": "Python 3"
    },
    "language_info": {
      "name": "python"
    }
  },
  "cells": [
    {
      "cell_type": "markdown",
      "metadata": {
        "id": "view-in-github",
        "colab_type": "text"
      },
      "source": [
        "<a href=\"https://colab.research.google.com/github/joykunio/twitter_entity_analysis/blob/main/twitter%E8%87%AA%E5%8B%95%E5%8F%8E%E9%9B%86%E3%81%A8%E5%BD%A2%E6%85%8B%E7%B4%A0%E8%A7%A3%E6%9E%90.ipynb\" target=\"_parent\"><img src=\"https://colab.research.google.com/assets/colab-badge.svg\" alt=\"Open In Colab\"/></a>"
      ]
    },
    {
      "cell_type": "code",
      "source": [
        "#ユーザー辞書の使用のためにgoogle driveをマウント\n",
        "from google.colab import drive\n",
        "drive.mount('/content/drive')"
      ],
      "metadata": {
        "id": "QdWaRvUpcQRw"
      },
      "execution_count": null,
      "outputs": []
    },
    {
      "cell_type": "code",
      "source": [
        "#janomeをインストール\n",
        "!pip install janome"
      ],
      "metadata": {
        "id": "LPxLyBgmXxTY"
      },
      "execution_count": null,
      "outputs": []
    },
    {
      "cell_type": "code",
      "execution_count": null,
      "metadata": {
        "id": "I5moTQL5EbrD"
      },
      "outputs": [],
      "source": [
        "#tweepyはバージョン指定しないと、古いものが入る可能性ある\n",
        "!pip install tweepy==4.4.0"
      ]
    },
    {
      "cell_type": "code",
      "source": [
        "import tweepy\n",
        "from janome.tokenizer import Tokenizer\n",
        "from janome.analyzer import Analyzer\n",
        "from janome.charfilter import *\n",
        "from janome.tokenfilter import *\n",
        "import collections"
      ],
      "metadata": {
        "id": "KI5TWp6FEyTd"
      },
      "execution_count": null,
      "outputs": []
    },
    {
      "cell_type": "code",
      "source": [
        "#twitterの検索ワードと検索数\n",
        "searchkey = \"(脳梗塞 -is:retweet -is:reply)\" #脳梗塞について調べるが、リツイートとリプライを除外\n",
        "item_num = 100\n",
        "\n",
        "#結果を格納する\n",
        "results     = []"
      ],
      "metadata": {
        "id": "5iTYrR_eE1Ov"
      },
      "execution_count": null,
      "outputs": []
    },
    {
      "cell_type": "code",
      "source": [
        "#twitterのapi key\n",
        "bearer_key = 'Your Key'\n",
        "api_key = 'Your Key' \n",
        "api_secret = 'Your Key' \n",
        "access_key = 'Your Key' \n",
        "access_secret = 'Your Key' "
      ],
      "metadata": {
        "id": "7kyL2MqmE9vQ"
      },
      "execution_count": null,
      "outputs": []
    },
    {
      "cell_type": "code",
      "source": [
        "client = tweepy.Client(bearer_token = bearer_key, consumer_key = api_key,consumer_secret = api_secret, access_token = access_key, access_token_secret = access_secret)"
      ],
      "metadata": {
        "id": "oRuWEB6JFIQb"
      },
      "execution_count": null,
      "outputs": []
    },
    {
      "cell_type": "code",
      "source": [
        "t = Tokenizer(\"Your dictionary pass\", udic_type=\"simpledic\", udic_enc=\"utf8\") #ユーザー辞書を使用、この時点でwakati=TrueとするとAnalyzerでエラーになる"
      ],
      "metadata": {
        "id": "mkvcvxWs-FXB"
      },
      "execution_count": null,
      "outputs": []
    },
    {
      "cell_type": "code",
      "source": [
        " # 直近のツイート取得\n",
        "tweets = client.search_recent_tweets(query = searchkey, max_results = item_num)\n",
        "\n",
        " # 取得したデータ加工\n",
        "tweets_data = tweets.data\n",
        "\n",
        " # tweet検索結果取得\n",
        "if tweets_data != None:\n",
        "    for tweet in tweets_data:\n",
        "        \n",
        "        #results.append(str(tweet.id))      # Tweet_ID\n",
        "        results.append(str(tweet.text))  # Tweet Conten\n",
        "else:\n",
        "    results.append('')"
      ],
      "metadata": {
        "id": "raThVGJZFjEs"
      },
      "execution_count": null,
      "outputs": []
    },
    {
      "cell_type": "code",
      "source": [
        "words_list =[]\n",
        "unique_words = []\n",
        "token_filters = [CompoundNounFilter(), POSKeepFilter(['名詞', '動詞']), TokenCountFilter()] #Analyzerの各種フィルターをセット\n",
        "a = Analyzer(tokenizer=t, token_filters=token_filters)\n",
        "\n",
        "for i in results:\n",
        "  #tokens = t.tokenize(i, wakati=True) #フィルターなし\n",
        "  tokens = a.analyze(i)  #アナライズフィルターあり\n",
        "\n",
        "  for token in tokens:\n",
        "    words_list.append(token[0])\n",
        "    if token[0] not in unique_words:\n",
        "      unique_words.append(token[0])\n",
        "\n"
      ],
      "metadata": {
        "id": "1xOE3N1TGRtX"
      },
      "execution_count": null,
      "outputs": []
    },
    {
      "cell_type": "code",
      "source": [
        "words_list #twieetの単語リスト"
      ],
      "metadata": {
        "id": "b02RC3GyAGhQ"
      },
      "execution_count": null,
      "outputs": []
    },
    {
      "cell_type": "code",
      "source": [
        "unique_words　 #単語リストでかぶりなし"
      ],
      "metadata": {
        "id": "zWpaWv0XRveI"
      },
      "execution_count": null,
      "outputs": []
    },
    {
      "cell_type": "code",
      "source": [
        "c = collections.Counter(words_list)\n",
        "mc = c.most_common(40) #多く出現した単語\n",
        "print(mc)"
      ],
      "metadata": {
        "id": "VpZbGuCtDVyO"
      },
      "execution_count": null,
      "outputs": []
    }
  ]
}